{
 "cells": [
  {
   "cell_type": "code",
   "execution_count": 114,
   "id": "7fdb4ab6",
   "metadata": {},
   "outputs": [],
   "source": [
    "import pandas as pd\n",
    "import numpy as np\n",
    "import matplotlib.pyplot as plt\n",
    "import seaborn as sns\n",
    "from sklearn.metrics import accuracy_score\n",
    "from sklearn.model_selection import train_test_split\n",
    "from scipy.stats import mode\n",
    "import cv2\n",
    "from scipy.stats import kurtosis\n",
    "from scipy.stats import skew\n",
    "from scipy.stats import entropy\n",
    "from PIL import Image"
   ]
  },
  {
   "cell_type": "code",
   "execution_count": 115,
   "id": "a0c4726a",
   "metadata": {},
   "outputs": [],
   "source": [
    "currency_data=pd.read_csv(\"dataset.csv\")\n"
   ]
  },
  {
   "cell_type": "code",
   "execution_count": 116,
   "id": "23a72912",
   "metadata": {},
   "outputs": [
    {
     "data": {
      "text/html": [
       "<div>\n",
       "<style scoped>\n",
       "    .dataframe tbody tr th:only-of-type {\n",
       "        vertical-align: middle;\n",
       "    }\n",
       "\n",
       "    .dataframe tbody tr th {\n",
       "        vertical-align: top;\n",
       "    }\n",
       "\n",
       "    .dataframe thead th {\n",
       "        text-align: right;\n",
       "    }\n",
       "</style>\n",
       "<table border=\"1\" class=\"dataframe\">\n",
       "  <thead>\n",
       "    <tr style=\"text-align: right;\">\n",
       "      <th></th>\n",
       "      <th>Variance</th>\n",
       "      <th>Skewness</th>\n",
       "      <th>Kurtosis</th>\n",
       "      <th>Entropy</th>\n",
       "      <th>authentication</th>\n",
       "    </tr>\n",
       "  </thead>\n",
       "  <tbody>\n",
       "    <tr>\n",
       "      <th>0</th>\n",
       "      <td>-1.397100</td>\n",
       "      <td>3.319100</td>\n",
       "      <td>-1.392700</td>\n",
       "      <td>-1.994800</td>\n",
       "      <td>0</td>\n",
       "    </tr>\n",
       "    <tr>\n",
       "      <th>1</th>\n",
       "      <td>0.390120</td>\n",
       "      <td>-0.142790</td>\n",
       "      <td>-0.031994</td>\n",
       "      <td>0.350840</td>\n",
       "      <td>0</td>\n",
       "    </tr>\n",
       "    <tr>\n",
       "      <th>2</th>\n",
       "      <td>-1.667700</td>\n",
       "      <td>-7.153500</td>\n",
       "      <td>7.892900</td>\n",
       "      <td>0.967650</td>\n",
       "      <td>0</td>\n",
       "    </tr>\n",
       "    <tr>\n",
       "      <th>3</th>\n",
       "      <td>-3.848300</td>\n",
       "      <td>-12.804700</td>\n",
       "      <td>15.682400</td>\n",
       "      <td>-1.281000</td>\n",
       "      <td>0</td>\n",
       "    </tr>\n",
       "    <tr>\n",
       "      <th>4</th>\n",
       "      <td>-3.568100</td>\n",
       "      <td>-8.213000</td>\n",
       "      <td>10.083000</td>\n",
       "      <td>0.967650</td>\n",
       "      <td>0</td>\n",
       "    </tr>\n",
       "    <tr>\n",
       "      <th>...</th>\n",
       "      <td>...</td>\n",
       "      <td>...</td>\n",
       "      <td>...</td>\n",
       "      <td>...</td>\n",
       "      <td>...</td>\n",
       "    </tr>\n",
       "    <tr>\n",
       "      <th>4727</th>\n",
       "      <td>3946.590202</td>\n",
       "      <td>3.532173</td>\n",
       "      <td>10.476248</td>\n",
       "      <td>9.248118</td>\n",
       "      <td>0</td>\n",
       "    </tr>\n",
       "    <tr>\n",
       "      <th>4728</th>\n",
       "      <td>4449.193279</td>\n",
       "      <td>3.258068</td>\n",
       "      <td>8.615009</td>\n",
       "      <td>9.377633</td>\n",
       "      <td>0</td>\n",
       "    </tr>\n",
       "    <tr>\n",
       "      <th>4729</th>\n",
       "      <td>4165.227084</td>\n",
       "      <td>3.407550</td>\n",
       "      <td>9.611394</td>\n",
       "      <td>9.306196</td>\n",
       "      <td>0</td>\n",
       "    </tr>\n",
       "    <tr>\n",
       "      <th>4730</th>\n",
       "      <td>4431.522585</td>\n",
       "      <td>3.267000</td>\n",
       "      <td>8.673286</td>\n",
       "      <td>9.373309</td>\n",
       "      <td>0</td>\n",
       "    </tr>\n",
       "    <tr>\n",
       "      <th>4731</th>\n",
       "      <td>3877.886575</td>\n",
       "      <td>3.573255</td>\n",
       "      <td>10.768154</td>\n",
       "      <td>9.229260</td>\n",
       "      <td>0</td>\n",
       "    </tr>\n",
       "  </tbody>\n",
       "</table>\n",
       "<p>4732 rows × 5 columns</p>\n",
       "</div>"
      ],
      "text/plain": [
       "         Variance   Skewness   Kurtosis   Entropy  authentication\n",
       "0       -1.397100   3.319100  -1.392700 -1.994800               0\n",
       "1        0.390120  -0.142790  -0.031994  0.350840               0\n",
       "2       -1.667700  -7.153500   7.892900  0.967650               0\n",
       "3       -3.848300 -12.804700  15.682400 -1.281000               0\n",
       "4       -3.568100  -8.213000  10.083000  0.967650               0\n",
       "...           ...        ...        ...       ...             ...\n",
       "4727  3946.590202   3.532173  10.476248  9.248118               0\n",
       "4728  4449.193279   3.258068   8.615009  9.377633               0\n",
       "4729  4165.227084   3.407550   9.611394  9.306196               0\n",
       "4730  4431.522585   3.267000   8.673286  9.373309               0\n",
       "4731  3877.886575   3.573255  10.768154  9.229260               0\n",
       "\n",
       "[4732 rows x 5 columns]"
      ]
     },
     "execution_count": 116,
     "metadata": {},
     "output_type": "execute_result"
    }
   ],
   "source": [
    "currency_data"
   ]
  },
  {
   "cell_type": "code",
   "execution_count": 117,
   "id": "c3423fee",
   "metadata": {},
   "outputs": [],
   "source": [
    "X=currency_data.drop('authentication',axis=1)\n",
    "Y=currency_data['authentication']"
   ]
  },
  {
   "cell_type": "code",
   "execution_count": 118,
   "id": "d4453fc0",
   "metadata": {},
   "outputs": [
    {
     "name": "stdout",
     "output_type": "stream",
     "text": [
      "<class 'pandas.core.frame.DataFrame'>\n"
     ]
    }
   ],
   "source": [
    "print(type(X))"
   ]
  },
  {
   "cell_type": "code",
   "execution_count": 119,
   "id": "372a9e14",
   "metadata": {},
   "outputs": [
    {
     "name": "stdout",
     "output_type": "stream",
     "text": [
      "         Variance   Skewness   Kurtosis   Entropy\n",
      "0       -1.397100   3.319100  -1.392700 -1.994800\n",
      "1        0.390120  -0.142790  -0.031994  0.350840\n",
      "2       -1.667700  -7.153500   7.892900  0.967650\n",
      "3       -3.848300 -12.804700  15.682400 -1.281000\n",
      "4       -3.568100  -8.213000  10.083000  0.967650\n",
      "...           ...        ...        ...       ...\n",
      "4727  3946.590202   3.532173  10.476248  9.248118\n",
      "4728  4449.193279   3.258068   8.615009  9.377633\n",
      "4729  4165.227084   3.407550   9.611394  9.306196\n",
      "4730  4431.522585   3.267000   8.673286  9.373309\n",
      "4731  3877.886575   3.573255  10.768154  9.229260\n",
      "\n",
      "[4732 rows x 4 columns]\n"
     ]
    }
   ],
   "source": [
    "print(X)"
   ]
  },
  {
   "cell_type": "code",
   "execution_count": 120,
   "id": "42719e66",
   "metadata": {},
   "outputs": [
    {
     "name": "stdout",
     "output_type": "stream",
     "text": [
      "0       0\n",
      "1       0\n",
      "2       0\n",
      "3       0\n",
      "4       0\n",
      "       ..\n",
      "4727    0\n",
      "4728    0\n",
      "4729    0\n",
      "4730    0\n",
      "4731    0\n",
      "Name: authentication, Length: 4732, dtype: int64\n"
     ]
    }
   ],
   "source": [
    "print(Y)"
   ]
  },
  {
   "cell_type": "code",
   "execution_count": 121,
   "id": "881c983e",
   "metadata": {},
   "outputs": [],
   "source": [
    "def euclidean_distance(p1,p2):\n",
    "    distance=np.sqrt(np.sum((p1-p2)**2))\n",
    "    return distance"
   ]
  },
  {
   "cell_type": "code",
   "execution_count": 122,
   "id": "4dea5aec",
   "metadata": {},
   "outputs": [],
   "source": [
    "def KNN(X_train,X_test, Y_train,Y_test,k_val):\n",
    "    y_hat=[]\n",
    "    for test_pt in X_test.to_numpy():\n",
    "        distances=[]\n",
    "        for i in range(len(X_train)):\n",
    "            distances.append(euclidean_distance((np.array(X_train.iloc[i])),test_pt))\n",
    "            \n",
    "        distance_data = pd.DataFrame(data = distances,columns=['distance'], index=Y_train.index)\n",
    "        \n",
    "        k_neighbors_list = distance_data.sort_values(by=['distance'],axis=0)[:k_val]\n",
    "        \n",
    "        labels = Y_train.loc[k_neighbors_list.index]\n",
    "        \n",
    "        voting = mode(labels,keepdims=True).mode[0]\n",
    "        \n",
    "        y_hat.append(voting)\n",
    "        \n",
    "    return y_hat"
   ]
  },
  {
   "cell_type": "code",
   "execution_count": 123,
   "id": "b941d849",
   "metadata": {},
   "outputs": [],
   "source": [
    "import numpy as np\n",
    "import matplotlib.pyplot as plt\n",
    "import cv2\n",
    "from scipy.stats import kurtosis\n",
    "from scipy.stats import skew\n",
    "from scipy.stats import entropy\n",
    "from PIL import Image"
   ]
  },
  {
   "cell_type": "code",
   "execution_count": 124,
   "id": "5e7eadfc",
   "metadata": {},
   "outputs": [],
   "source": [
    "\n",
    "\n",
    "rgb_image = Image.open(\"500note.jpg\")\n",
    "\n"
   ]
  },
  {
   "cell_type": "code",
   "execution_count": 125,
   "id": "3108247d",
   "metadata": {},
   "outputs": [],
   "source": [
    "gray_image = rgb_image.convert('L')\n"
   ]
  },
  {
   "cell_type": "code",
   "execution_count": 126,
   "id": "d8b73804",
   "metadata": {},
   "outputs": [
    {
     "data": {
      "text/plain": [
       "True"
      ]
     },
     "execution_count": 126,
     "metadata": {},
     "output_type": "execute_result"
    }
   ],
   "source": [
    "\n",
    "# gray_image = cv2.imread(\"gray_image.jpg\", cv2.IMREAD_GRAYSCALE)\n",
    "img_array = np.asarray(gray_image)\n",
    "edges = cv2.Canny(img_array, threshold1=100, threshold2=200)\n",
    "cv2.imwrite(\"edge_map.jpg\", edges)\n"
   ]
  },
  {
   "cell_type": "code",
   "execution_count": 127,
   "id": "9cbef0cd",
   "metadata": {},
   "outputs": [],
   "source": [
    "img=edges\n"
   ]
  },
  {
   "cell_type": "code",
   "execution_count": 128,
   "id": "1a8cf39b",
   "metadata": {},
   "outputs": [],
   "source": [
    "X_test = [] \n",
    "X_test.append(np.var(img))\n",
    "img_data = img.flatten()\n",
    "X_test.append(skew(img_data))\n",
    "X_test.append(kurtosis(img_data))\n",
    "X_test.append(entropy(img_data))\n",
    "Y_test=[]\n",
    "Y_test.append(0);"
   ]
  },
  {
   "cell_type": "code",
   "execution_count": 129,
   "id": "08cf6608",
   "metadata": {},
   "outputs": [
    {
     "name": "stdout",
     "output_type": "stream",
     "text": [
      "      variance  skewness   kirtosis    entropy\n",
      "0  1415.484476  6.475981  39.938335  10.216764\n",
      "   authentication\n",
      "0               0\n"
     ]
    }
   ],
   "source": [
    "XY = {\n",
    "    'variance': [X_test[0]],\n",
    "    'skewness': [X_test[1]],\n",
    "    'kirtosis': [X_test[2]],\n",
    "    'entropy':[X_test[3]]\n",
    "}\n",
    "\n",
    "input_X = pd.DataFrame(XY)\n",
    "YX = {\n",
    "    'authentication':[0]\n",
    "}\n",
    "input_Y=pd.DataFrame(YX)\n",
    "print(input_X)\n",
    "print(input_Y)"
   ]
  },
  {
   "cell_type": "code",
   "execution_count": 130,
   "id": "88e7b6d8",
   "metadata": {},
   "outputs": [
    {
     "name": "stdout",
     "output_type": "stream",
     "text": [
      "varience: 1415.4844758218578\n",
      "skewness: 6.4759813907572\n",
      "kurtosis: 39.93833497343377\n",
      "entropy: 10.216764269649385\n"
     ]
    }
   ],
   "source": [
    "\n",
    "print('varience:', X_test[0])\n",
    "print('skewness:', X_test[1])\n",
    "print('kurtosis:', X_test[2])\n",
    "print('entropy:', X_test[3])"
   ]
  },
  {
   "cell_type": "code",
   "execution_count": 131,
   "id": "c099f932",
   "metadata": {},
   "outputs": [
    {
     "name": "stdout",
     "output_type": "stream",
     "text": [
      "[0]\n"
     ]
    }
   ],
   "source": [
    "print(y_hat_test)"
   ]
  },
  {
   "cell_type": "code",
   "execution_count": 132,
   "id": "bc2ab79a",
   "metadata": {},
   "outputs": [
    {
     "name": "stdout",
     "output_type": "stream",
     "text": [
      "   authentication\n",
      "0               0\n"
     ]
    }
   ],
   "source": [
    "print(input_Y)"
   ]
  },
  {
   "cell_type": "code",
   "execution_count": 133,
   "id": "bbbc8be0",
   "metadata": {},
   "outputs": [
    {
     "name": "stdout",
     "output_type": "stream",
     "text": [
      "The currency is real\n"
     ]
    }
   ],
   "source": [
    "accuracy_score=accuracy_score(input_Y,y_hat_test)\n",
    "if accuracy_score>0.5:\n",
    "    print(\"The currency is real\")\n",
    "else:\n",
    "    print(\"The currency is fake\")"
   ]
  }
 ],
 "metadata": {
  "kernelspec": {
   "display_name": "Python 3 (ipykernel)",
   "language": "python",
   "name": "python3"
  },
  "language_info": {
   "codemirror_mode": {
    "name": "ipython",
    "version": 3
   },
   "file_extension": ".py",
   "mimetype": "text/x-python",
   "name": "python",
   "nbconvert_exporter": "python",
   "pygments_lexer": "ipython3",
   "version": "3.10.9"
  }
 },
 "nbformat": 4,
 "nbformat_minor": 5
}
