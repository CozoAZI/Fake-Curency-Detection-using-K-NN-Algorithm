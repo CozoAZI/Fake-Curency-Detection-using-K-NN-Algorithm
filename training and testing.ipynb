{
 "cells": [
  {
   "cell_type": "code",
   "execution_count": 47,
   "id": "7fdb4ab6",
   "metadata": {},
   "outputs": [],
   "source": [
    "import pandas as pd"
   ]
  },
  {
   "cell_type": "code",
   "execution_count": 48,
   "id": "061b4c87",
   "metadata": {},
   "outputs": [],
   "source": [
    "currency_data=pd.read_csv(\"dataset.csv\")\n"
   ]
  },
  {
   "cell_type": "code",
   "execution_count": 49,
   "id": "34aafa2c",
   "metadata": {},
   "outputs": [],
   "source": [
    "import numpy as np\n",
    "import matplotlib.pyplot as plt\n",
    "import seaborn as sns\n",
    "from sklearn.metrics import accuracy_score\n",
    "from sklearn.model_selection import train_test_split\n",
    "from scipy.stats import mode"
   ]
  },
  {
   "cell_type": "code",
   "execution_count": 50,
   "id": "f748fd50",
   "metadata": {},
   "outputs": [
    {
     "data": {
      "text/html": [
       "<div>\n",
       "<style scoped>\n",
       "    .dataframe tbody tr th:only-of-type {\n",
       "        vertical-align: middle;\n",
       "    }\n",
       "\n",
       "    .dataframe tbody tr th {\n",
       "        vertical-align: top;\n",
       "    }\n",
       "\n",
       "    .dataframe thead th {\n",
       "        text-align: right;\n",
       "    }\n",
       "</style>\n",
       "<table border=\"1\" class=\"dataframe\">\n",
       "  <thead>\n",
       "    <tr style=\"text-align: right;\">\n",
       "      <th></th>\n",
       "      <th>Variance</th>\n",
       "      <th>Skewness</th>\n",
       "      <th>Kurtosis</th>\n",
       "      <th>Entropy</th>\n",
       "      <th>authentication</th>\n",
       "    </tr>\n",
       "  </thead>\n",
       "  <tbody>\n",
       "    <tr>\n",
       "      <th>0</th>\n",
       "      <td>-1.397100</td>\n",
       "      <td>3.319100</td>\n",
       "      <td>-1.392700</td>\n",
       "      <td>-1.994800</td>\n",
       "      <td>0</td>\n",
       "    </tr>\n",
       "    <tr>\n",
       "      <th>1</th>\n",
       "      <td>0.390120</td>\n",
       "      <td>-0.142790</td>\n",
       "      <td>-0.031994</td>\n",
       "      <td>0.350840</td>\n",
       "      <td>0</td>\n",
       "    </tr>\n",
       "    <tr>\n",
       "      <th>2</th>\n",
       "      <td>-1.667700</td>\n",
       "      <td>-7.153500</td>\n",
       "      <td>7.892900</td>\n",
       "      <td>0.967650</td>\n",
       "      <td>0</td>\n",
       "    </tr>\n",
       "    <tr>\n",
       "      <th>3</th>\n",
       "      <td>-3.848300</td>\n",
       "      <td>-12.804700</td>\n",
       "      <td>15.682400</td>\n",
       "      <td>-1.281000</td>\n",
       "      <td>0</td>\n",
       "    </tr>\n",
       "    <tr>\n",
       "      <th>4</th>\n",
       "      <td>-3.568100</td>\n",
       "      <td>-8.213000</td>\n",
       "      <td>10.083000</td>\n",
       "      <td>0.967650</td>\n",
       "      <td>0</td>\n",
       "    </tr>\n",
       "    <tr>\n",
       "      <th>...</th>\n",
       "      <td>...</td>\n",
       "      <td>...</td>\n",
       "      <td>...</td>\n",
       "      <td>...</td>\n",
       "      <td>...</td>\n",
       "    </tr>\n",
       "    <tr>\n",
       "      <th>4727</th>\n",
       "      <td>3946.590202</td>\n",
       "      <td>3.532173</td>\n",
       "      <td>10.476248</td>\n",
       "      <td>9.248118</td>\n",
       "      <td>0</td>\n",
       "    </tr>\n",
       "    <tr>\n",
       "      <th>4728</th>\n",
       "      <td>4449.193279</td>\n",
       "      <td>3.258068</td>\n",
       "      <td>8.615009</td>\n",
       "      <td>9.377633</td>\n",
       "      <td>0</td>\n",
       "    </tr>\n",
       "    <tr>\n",
       "      <th>4729</th>\n",
       "      <td>4165.227084</td>\n",
       "      <td>3.407550</td>\n",
       "      <td>9.611394</td>\n",
       "      <td>9.306196</td>\n",
       "      <td>0</td>\n",
       "    </tr>\n",
       "    <tr>\n",
       "      <th>4730</th>\n",
       "      <td>4431.522585</td>\n",
       "      <td>3.267000</td>\n",
       "      <td>8.673286</td>\n",
       "      <td>9.373309</td>\n",
       "      <td>0</td>\n",
       "    </tr>\n",
       "    <tr>\n",
       "      <th>4731</th>\n",
       "      <td>3877.886575</td>\n",
       "      <td>3.573255</td>\n",
       "      <td>10.768154</td>\n",
       "      <td>9.229260</td>\n",
       "      <td>0</td>\n",
       "    </tr>\n",
       "  </tbody>\n",
       "</table>\n",
       "<p>4732 rows × 5 columns</p>\n",
       "</div>"
      ],
      "text/plain": [
       "         Variance   Skewness   Kurtosis   Entropy  authentication\n",
       "0       -1.397100   3.319100  -1.392700 -1.994800               0\n",
       "1        0.390120  -0.142790  -0.031994  0.350840               0\n",
       "2       -1.667700  -7.153500   7.892900  0.967650               0\n",
       "3       -3.848300 -12.804700  15.682400 -1.281000               0\n",
       "4       -3.568100  -8.213000  10.083000  0.967650               0\n",
       "...           ...        ...        ...       ...             ...\n",
       "4727  3946.590202   3.532173  10.476248  9.248118               0\n",
       "4728  4449.193279   3.258068   8.615009  9.377633               0\n",
       "4729  4165.227084   3.407550   9.611394  9.306196               0\n",
       "4730  4431.522585   3.267000   8.673286  9.373309               0\n",
       "4731  3877.886575   3.573255  10.768154  9.229260               0\n",
       "\n",
       "[4732 rows x 5 columns]"
      ]
     },
     "execution_count": 50,
     "metadata": {},
     "output_type": "execute_result"
    }
   ],
   "source": [
    "currency_data"
   ]
  },
  {
   "cell_type": "code",
   "execution_count": 51,
   "id": "c3423fee",
   "metadata": {},
   "outputs": [],
   "source": [
    "X=currency_data.drop('authentication',axis=1)\n",
    "Y=currency_data['authentication']"
   ]
  },
  {
   "cell_type": "code",
   "execution_count": 52,
   "id": "372a9e14",
   "metadata": {},
   "outputs": [
    {
     "name": "stdout",
     "output_type": "stream",
     "text": [
      "         Variance   Skewness   Kurtosis   Entropy\n",
      "0       -1.397100   3.319100  -1.392700 -1.994800\n",
      "1        0.390120  -0.142790  -0.031994  0.350840\n",
      "2       -1.667700  -7.153500   7.892900  0.967650\n",
      "3       -3.848300 -12.804700  15.682400 -1.281000\n",
      "4       -3.568100  -8.213000  10.083000  0.967650\n",
      "...           ...        ...        ...       ...\n",
      "4727  3946.590202   3.532173  10.476248  9.248118\n",
      "4728  4449.193279   3.258068   8.615009  9.377633\n",
      "4729  4165.227084   3.407550   9.611394  9.306196\n",
      "4730  4431.522585   3.267000   8.673286  9.373309\n",
      "4731  3877.886575   3.573255  10.768154  9.229260\n",
      "\n",
      "[4732 rows x 4 columns]\n"
     ]
    }
   ],
   "source": [
    "print(X)"
   ]
  },
  {
   "cell_type": "code",
   "execution_count": 53,
   "id": "42719e66",
   "metadata": {},
   "outputs": [
    {
     "name": "stdout",
     "output_type": "stream",
     "text": [
      "0       0\n",
      "1       0\n",
      "2       0\n",
      "3       0\n",
      "4       0\n",
      "       ..\n",
      "4727    0\n",
      "4728    0\n",
      "4729    0\n",
      "4730    0\n",
      "4731    0\n",
      "Name: authentication, Length: 4732, dtype: int64\n"
     ]
    }
   ],
   "source": [
    "print(Y)"
   ]
  },
  {
   "cell_type": "code",
   "execution_count": 54,
   "id": "881c983e",
   "metadata": {},
   "outputs": [],
   "source": [
    "def euclidean_distance(p1,p2):\n",
    "    distance=np.sqrt(np.sum((p1-p2)**2))\n",
    "    return distance"
   ]
  },
  {
   "cell_type": "code",
   "execution_count": 55,
   "id": "3190966f",
   "metadata": {},
   "outputs": [
    {
     "name": "stdout",
     "output_type": "stream",
     "text": [
      "5.385164807134504\n"
     ]
    }
   ],
   "source": [
    "a=np.array([3,4])\n",
    "b=np.array([5,9])\n",
    "print(euclidean_distance(a,b))"
   ]
  },
  {
   "cell_type": "code",
   "execution_count": 56,
   "id": "4dea5aec",
   "metadata": {},
   "outputs": [],
   "source": [
    "def KNN(X_train,X_test, Y_train,Y_test,k_val):\n",
    "    y_hat=[]\n",
    "    for test_pt in X_test.to_numpy():\n",
    "        distances=[]\n",
    "        for i in range(len(X_train)):\n",
    "            distances.append(euclidean_distance((np.array(X_train.iloc[i])),test_pt))\n",
    "            \n",
    "        distance_data = pd.DataFrame(data = distances,columns=['distance'], index=Y_train.index)\n",
    "        \n",
    "        k_neighbors_list = distance_data.sort_values(by=['distance'],axis=0)[:k_val]\n",
    "        \n",
    "        labels = Y_train.loc[k_neighbors_list.index]\n",
    "        \n",
    "        voting = mode(labels,keepdims=True).mode[0]\n",
    "        \n",
    "        y_hat.append(voting)\n",
    "        \n",
    "    return y_hat"
   ]
  },
  {
   "cell_type": "code",
   "execution_count": 58,
   "id": "dbc3cfbb",
   "metadata": {},
   "outputs": [],
   "source": [
    "X_train, X_test, Y_train, Y_test =train_test_split(X,Y, test_size = 0.3, random_state=49)\n",
    "y_hat_test = KNN(X_train, X_test, Y_train, Y_test, k_val=10)"
   ]
  },
  {
   "cell_type": "code",
   "execution_count": 12,
   "id": "c8402743",
   "metadata": {},
   "outputs": [
    {
     "data": {
      "text/plain": [
       "[<matplotlib.lines.Line2D at 0x2163ad65a80>]"
      ]
     },
     "execution_count": 12,
     "metadata": {},
     "output_type": "execute_result"
    },
    {
     "data": {
      "image/png": "[encoded data removed]",
      "text/plain": [
       "<Figure size 640x480 with 1 Axes>"
      ]
     },
     "metadata": {},
     "output_type": "display_data"
    }
   ],
   "source": [
    "accuracy_vals = []\n",
    "for i in range (1,10):\n",
    "    y_hat_test = KNN(X_train, X_test, Y_train, Y_test, k_val=i)\n",
    "    accuracy_vals.append(accuracy_score(Y_test,y_hat_test))\n",
    "    \n",
    "plt.plot(range(1,10), accuracy_vals,color='blue',marker='x' ,linestyle='dashed')"
   ]
  },
  {
   "cell_type": "code",
   "execution_count": 59,
   "id": "61e6089d",
   "metadata": {},
   "outputs": [
    {
     "name": "stdout",
     "output_type": "stream",
     "text": [
      "0.9936619718309859\n"
     ]
    }
   ],
   "source": [
    "print(accuracy_score(Y_test,y_hat_test))"
   ]
  },
  {
   "cell_type": "code",
   "execution_count": 40,
   "id": "4bb91780",
   "metadata": {},
   "outputs": [
    {
     "ename": "KeyboardInterrupt",
     "evalue": "",
     "output_type": "error",
     "traceback": [
      "\u001b[1;31m---------------------------------------------------------------------------\u001b[0m",
      "\u001b[1;31mKeyboardInterrupt\u001b[0m                         Traceback (most recent call last)",
      "Cell \u001b[1;32mIn[40], line 2\u001b[0m\n\u001b[0;32m      1\u001b[0m X_train, X_test, Y_train, Y_test \u001b[38;5;241m=\u001b[39m train_test_split(X,Y, test_size \u001b[38;5;241m=\u001b[39m \u001b[38;5;241m0.3\u001b[39m, random_state\u001b[38;5;241m=\u001b[39m\u001b[38;5;241m20\u001b[39m) \n\u001b[1;32m----> 2\u001b[0m y_hat_test \u001b[38;5;241m=\u001b[39m \u001b[43mKNN\u001b[49m\u001b[43m(\u001b[49m\u001b[43mX_train\u001b[49m\u001b[43m,\u001b[49m\u001b[43m \u001b[49m\u001b[43mX_test\u001b[49m\u001b[43m,\u001b[49m\u001b[43m \u001b[49m\u001b[43mY_train\u001b[49m\u001b[43m,\u001b[49m\u001b[43m \u001b[49m\u001b[43mY_test\u001b[49m\u001b[43m,\u001b[49m\u001b[43m \u001b[49m\u001b[43mk_val\u001b[49m\u001b[38;5;241;43m=\u001b[39;49m\u001b[38;5;241;43m5\u001b[39;49m\u001b[43m)\u001b[49m\n",
      "Cell \u001b[1;32mIn[10], line 6\u001b[0m, in \u001b[0;36mKNN\u001b[1;34m(X_train, X_test, Y_train, Y_test, k_val)\u001b[0m\n\u001b[0;32m      4\u001b[0m distances\u001b[38;5;241m=\u001b[39m[]\n\u001b[0;32m      5\u001b[0m \u001b[38;5;28;01mfor\u001b[39;00m i \u001b[38;5;129;01min\u001b[39;00m \u001b[38;5;28mrange\u001b[39m(\u001b[38;5;28mlen\u001b[39m(X_train)):\n\u001b[1;32m----> 6\u001b[0m     distances\u001b[38;5;241m.\u001b[39mappend(euclidean_distance((\u001b[43mnp\u001b[49m\u001b[38;5;241;43m.\u001b[39;49m\u001b[43marray\u001b[49m\u001b[43m(\u001b[49m\u001b[43mX_train\u001b[49m\u001b[38;5;241;43m.\u001b[39;49m\u001b[43miloc\u001b[49m\u001b[43m[\u001b[49m\u001b[43mi\u001b[49m\u001b[43m]\u001b[49m\u001b[43m)\u001b[49m),test_pt))\n\u001b[0;32m      8\u001b[0m distance_data \u001b[38;5;241m=\u001b[39m pd\u001b[38;5;241m.\u001b[39mDataFrame(data \u001b[38;5;241m=\u001b[39m distances,columns\u001b[38;5;241m=\u001b[39m[\u001b[38;5;124m'\u001b[39m\u001b[38;5;124mdistance\u001b[39m\u001b[38;5;124m'\u001b[39m], index\u001b[38;5;241m=\u001b[39mY_train\u001b[38;5;241m.\u001b[39mindex)\n\u001b[0;32m     10\u001b[0m k_neighbors_list \u001b[38;5;241m=\u001b[39m distance_data\u001b[38;5;241m.\u001b[39msort_values(by\u001b[38;5;241m=\u001b[39m[\u001b[38;5;124m'\u001b[39m\u001b[38;5;124mdistance\u001b[39m\u001b[38;5;124m'\u001b[39m],axis\u001b[38;5;241m=\u001b[39m\u001b[38;5;241m0\u001b[39m)[:k_val]\n",
      "\u001b[1;31mKeyboardInterrupt\u001b[0m: "
     ]
    }
   ],
   "source": [
    "X_train, X_test, Y_train, Y_test = train_test_split(X,Y, test_size = 0.3, random_state=20) \n",
    "y_hat_test = KNN(X_train, X_test, Y_train, Y_test, k_val=5)\n",
    "\n",
    "                                                                                                                           "
   ]
  },
  {
   "cell_type": "code",
   "execution_count": 17,
   "id": "31660308",
   "metadata": {},
   "outputs": [
    {
     "name": "stdout",
     "output_type": "stream",
     "text": [
      "1.0\n"
     ]
    },
    {
     "name": "stderr",
     "output_type": "stream",
     "text": [
      "C:\\Users\\Ronald kilio\\AppData\\Local\\Temp\\ipykernel_34216\\1439967151.py:7: MatplotlibDeprecationWarning: The seaborn styles shipped by Matplotlib are deprecated since 3.6, as they no longer correspond to the styles shipped by seaborn. However, they will remain available as 'seaborn-v0_8-<style>'. Alternatively, directly use the seaborn API instead.\n",
      "  plt.style.use('seaborn')\n"
     ]
    },
    {
     "data": {
      "text/plain": [
       "Text(0.5, 1.0, 'KNN Results')"
      ]
     },
     "execution_count": 17,
     "metadata": {},
     "output_type": "execute_result"
    },
    {
     "data": {
      "image/png": "[encoded data removed]",
      "text/plain": [
       "<Figure size 640x480 with 1 Axes>"
      ]
     },
     "metadata": {},
     "output_type": "display_data"
    }
   ],
   "source": [
    "print(accuracy_score(Y_test,y_hat_test))\n",
    "for i in range (len(y_hat_test)):\n",
    "    if(y_hat_test[i]==0):\n",
    "        plt.scatter(X_test.iloc[i]['Variance'],X_test.iloc[i]['Kurtosis'],color='blue')\n",
    "    if(y_hat_test[i]==1):\n",
    "        plt.scatter(X_test.iloc[i]['Variance'],X_test.iloc[i]['Kurtosis'],color='orange')\n",
    "plt.style.use('seaborn')\n",
    "plt.xlabel('Variance')\n",
    "plt.ylabel('Kurtosis')\n",
    "plt.title('KNN Results')"
   ]
  },
  {
   "cell_type": "code",
   "execution_count": 60,
   "id": "44e536d3",
   "metadata": {},
   "outputs": [],
   "source": [
    "from sklearn.metrics import confusion_matrix"
   ]
  },
  {
   "cell_type": "code",
   "execution_count": 61,
   "id": "7e10d1b6",
   "metadata": {},
   "outputs": [
    {
     "name": "stdout",
     "output_type": "stream",
     "text": [
      "[[703   9]\n",
      " [  0 708]]\n"
     ]
    }
   ],
   "source": [
    "cm=confusion_matrix(Y_test,y_hat_test)\n",
    "print (cm)"
   ]
  },
  {
   "cell_type": "code",
   "execution_count": 62,
   "id": "56de24e1",
   "metadata": {},
   "outputs": [
    {
     "data": {
      "image/png": "[encoded data removed]",
      "text/plain": [
       "<Figure size 800x600 with 1 Axes>"
      ]
     },
     "metadata": {},
     "output_type": "display_data"
    }
   ],
   "source": [
    "import seaborn as sns\n",
    "import matplotlib.pyplot as plt\n",
    "from sklearn.metrics import confusion_matrix\n",
    "\n",
    "# Create a confusion matrix\n",
    "cm=confusion_matrix(Y_test,y_hat_test)\n",
    "\n",
    "# Create a figure and axis\n",
    "fig, ax = plt.subplots(figsize=(8, 6))\n",
    "\n",
    "# Create a heatmap using Seaborn\n",
    "sns.heatmap(cm, annot=True, cmap='Blues', fmt='d', cbar=False, ax=ax)\n",
    "\n",
    "# Set axis labels and title\n",
    "ax.set_xlabel('Predicted labels')\n",
    "ax.set_ylabel('True labels')\n",
    "ax.set_title('Confusion Matrix')\n",
    "\n",
    "# Add class labels to the x and y axes\n",
    "class_labels = ['Class 0', 'Class 1']  # Replace with your class labels\n",
    "ax.xaxis.set_ticklabels(class_labels, rotation='vertical')\n",
    "ax.yaxis.set_ticklabels(class_labels, rotation='horizontal')\n",
    "\n",
    "# Show the plot\n",
    "plt.show()"
   ]
  },
  {
   "cell_type": "code",
   "execution_count": 63,
   "id": "dab374d2",
   "metadata": {},
   "outputs": [],
   "source": [
    "from sklearn.metrics import f1_score"
   ]
  },
  {
   "cell_type": "code",
   "execution_count": 64,
   "id": "7eb02f54",
   "metadata": {},
   "outputs": [
    {
     "name": "stdout",
     "output_type": "stream",
     "text": [
      "0.9936842105263157\n"
     ]
    }
   ],
   "source": [
    "f1_score=f1_score(Y_test,y_hat_test)\n",
    "print (f1_score)"
   ]
  },
  {
   "cell_type": "code",
   "execution_count": 65,
   "id": "f5065c83",
   "metadata": {},
   "outputs": [],
   "source": [
    "from sklearn.metrics import precision_score"
   ]
  },
  {
   "cell_type": "code",
   "execution_count": 66,
   "id": "b14f62cb",
   "metadata": {},
   "outputs": [
    {
     "name": "stdout",
     "output_type": "stream",
     "text": [
      "0.9874476987447699\n"
     ]
    }
   ],
   "source": [
    "precision_score=precision_score(Y_test,y_hat_test)\n",
    "print (precision_score)"
   ]
  },
  {
   "cell_type": "code",
   "execution_count": 67,
   "id": "5c770f26",
   "metadata": {},
   "outputs": [],
   "source": [
    "from sklearn.metrics import recall_score\n"
   ]
  },
  {
   "cell_type": "code",
   "execution_count": 68,
   "id": "a74698e0",
   "metadata": {},
   "outputs": [
    {
     "name": "stdout",
     "output_type": "stream",
     "text": [
      "1.0\n"
     ]
    }
   ],
   "source": [
    "recall_score=recall_score(Y_test,y_hat_test)\n",
    "print (recall_score)"
   ]
  },
  {
   "cell_type": "code",
   "execution_count": 69,
   "id": "3e799fd6",
   "metadata": {},
   "outputs": [],
   "source": [
    "from sklearn.metrics import accuracy_score"
   ]
  },
  {
   "cell_type": "code",
   "execution_count": 70,
   "id": "a1a1cdb4",
   "metadata": {},
   "outputs": [
    {
     "name": "stdout",
     "output_type": "stream",
     "text": [
      "0.9936619718309859\n"
     ]
    }
   ],
   "source": [
    "accuracy_score=accuracy_score(Y_test,y_hat_test)\n",
    "print (accuracy_score)"
   ]
  },
  {
   "cell_type": "code",
   "execution_count": null,
   "id": "aba114aa",
   "metadata": {},
   "outputs": [],
   "source": []
  }
 ],
 "metadata": {
  "kernelspec": {
   "display_name": "Python 3 (ipykernel)",
   "language": "python",
   "name": "python3"
  },
  "language_info": {
   "codemirror_mode": {
    "name": "ipython",
    "version": 3
   },
   "file_extension": ".py",
   "mimetype": "text/x-python",
   "name": "python",
   "nbconvert_exporter": "python",
   "pygments_lexer": "ipython3",
   "version": "3.10.9"
  }
 },
 "nbformat": 4,
 "nbformat_minor": 5
}
