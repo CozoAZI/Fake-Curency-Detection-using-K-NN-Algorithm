{
 "cells": [
  {
   "cell_type": "code",
   "execution_count": 1,
   "id": "0d5d8e2c",
   "metadata": {},
   "outputs": [],
   "source": [
    "import numpy as np\n",
    "import matplotlib.pyplot as plt\n",
    "import cv2\n",
    "from scipy.stats import kurtosis\n",
    "from scipy.stats import skew\n",
    "from scipy.stats import entropy\n",
    "from PIL import Image"
   ]
  },
  {
   "cell_type": "code",
   "execution_count": 18,
   "id": "2e10d16e",
   "metadata": {},
   "outputs": [],
   "source": [
    "\n",
    "rgb_image = Image.open(\"500note.jpg\")\n"
   ]
  },
  {
   "cell_type": "code",
   "execution_count": 19,
   "id": "76f785d1",
   "metadata": {},
   "outputs": [],
   "source": [
    "gray_image = rgb_image.convert('L')\n"
   ]
  },
  {
   "cell_type": "code",
   "execution_count": 20,
   "id": "08efb66a",
   "metadata": {},
   "outputs": [
    {
     "data": {
      "text/plain": [
       "True"
      ]
     },
     "execution_count": 20,
     "metadata": {},
     "output_type": "execute_result"
    }
   ],
   "source": [
    "\n",
    "# gray_image = cv2.imread(\"gray_image.jpg\", cv2.IMREAD_GRAYSCALE)\n",
    "img_array = np.asarray(gray_image)\n",
    "edges = cv2.Canny(img_array, threshold1=100, threshold2=200)\n",
    "cv2.imwrite(\"edge_map.jpg\", edges)\n"
   ]
  },
  {
   "cell_type": "code",
   "execution_count": 21,
   "id": "74cd209f",
   "metadata": {},
   "outputs": [],
   "source": [
    "img=edges"
   ]
  },
  {
   "cell_type": "code",
   "execution_count": 22,
   "id": "26e161d4",
   "metadata": {},
   "outputs": [],
   "source": [
    "var = [] \n",
    "var.append(np.mean(img))\n",
    "var.append(np.var(img))\n",
    "img_data = img.flatten()\n",
    "var.append(skew(img_data))\n",
    "var.append(kurtosis(img_data))\n",
    "var.append(entropy(img_data))\n"
   ]
  },
  {
   "cell_type": "code",
   "execution_count": 23,
   "id": "bf472117",
   "metadata": {},
   "outputs": [
    {
     "name": "stdout",
     "output_type": "stream",
     "text": [
      "mean: 41.83350325329912\n",
      "varience: 8917.50133514749\n",
      "skewness: 1.8143430745550366\n",
      "kurtosis: 1.2918407921858241\n",
      "entropy: 11.361253377560038\n"
     ]
    }
   ],
   "source": [
    "print('mean:', var[0])\n",
    "print('varience:', var[1])\n",
    "print('skewness:', var[2])\n",
    "print('kurtosis:', var[3])\n",
    "print('entropy:', var[4])"
   ]
  },
  {
   "cell_type": "code",
   "execution_count": 24,
   "id": "5dff08fc",
   "metadata": {},
   "outputs": [],
   "source": [
    "variance = np.var(edges)"
   ]
  },
  {
   "cell_type": "code",
   "execution_count": 4,
   "id": "4a8b0a07",
   "metadata": {},
   "outputs": [],
   "source": [
    "import os\n",
    "import csv\n",
    "from PIL import Image\n",
    "import numpy as np\n",
    "import cv2\n",
    "from scipy.stats import skew, kurtosis, entropy"
   ]
  },
  {
   "cell_type": "code",
   "execution_count": 8,
   "id": "283270a3",
   "metadata": {},
   "outputs": [],
   "source": [
    "import os\n",
    "from PIL import Image\n",
    "folder_path = \"resized_real_currency\"\n",
    "csv_file = open(\"dataset.csv\", \"w\", newline=\"\")\n",
    "csv_writer = csv.writer(csv_file)\n",
    "\n",
    "# Write the header row to the CSV file\n",
    "csv_writer.writerow([\"Variance\", \"Skewness\", \"Kurtosis\", \"Entropy\",\"authentication\"])\n",
    "\n",
    "# Loop through all the files in the folder\n",
    "for filename in os.listdir(folder_path):\n",
    "    if filename.endswith(\".jpg\") or filename.endswith(\".png\"):\n",
    "        # Open the image\n",
    "        image_path = os.path.join(folder_path, filename)\n",
    "        rgb_image = Image.open(image_path)\n",
    "        gray_image = rgb_image.convert('L')\n",
    "        img_array = np.asarray(gray_image)\n",
    "        edges = cv2.Canny(img_array, threshold1=100, threshold2=200)\n",
    "        img=edges\n",
    "        X_test = [] \n",
    "        X_test.append(np.var(img))\n",
    "        img_data = img.flatten()\n",
    "        X_test.append(skew(img_data))\n",
    "        X_test.append(kurtosis(img_data))\n",
    "        X_test.append(entropy(img_data))\n",
    "        X_test.append(0)\n",
    "        csv_writer.writerow(X_test)\n",
    "\n",
    "csv_file.close()"
   ]
  },
  {
   "cell_type": "code",
   "execution_count": null,
   "id": "169010b8",
   "metadata": {},
   "outputs": [],
   "source": []
  }
 ],
 "metadata": {
  "kernelspec": {
   "display_name": "Python 3 (ipykernel)",
   "language": "python",
   "name": "python3"
  },
  "language_info": {
   "codemirror_mode": {
    "name": "ipython",
    "version": 3
   },
   "file_extension": ".py",
   "mimetype": "text/x-python",
   "name": "python",
   "nbconvert_exporter": "python",
   "pygments_lexer": "ipython3",
   "version": "3.10.9"
  }
 },
 "nbformat": 4,
 "nbformat_minor": 5
}
